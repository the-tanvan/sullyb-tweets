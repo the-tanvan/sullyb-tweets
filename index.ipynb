{
 "cells": [
  {
   "cell_type": "code",
   "execution_count": 1,
   "id": "4542b26c",
   "metadata": {
    "slideshow": {
     "slide_type": "slide"
    }
   },
   "outputs": [
    {
     "name": "stdout",
     "output_type": "stream",
     "text": [
      "   name age\n",
      "1   Jon  23\n",
      "2  Bill  41\n",
      "3 Maria  32\n"
     ]
    }
   ],
   "source": [
    "df <- data.frame(name = c('Jon', 'Bill', 'Maria'),\n",
    "                 age = c(23, 41, 32)\n",
    "                 )\n",
    "print (df)"
   ]
  },
  {
   "cell_type": "code",
   "execution_count": null,
   "id": "e37b5b6b",
   "metadata": {
    "slideshow": {
     "slide_type": "slide"
    }
   },
   "outputs": [],
   "source": [
    "df <- data.frame(name = c('Jon B', 'Bill B ', 'Maria B'),\n",
    "                 age = c(23, 41, 32)\n",
    "                 )\n",
    "print (df)"
   ]
  }
 ],
 "metadata": {
  "celltoolbar": "Slideshow",
  "kernelspec": {
   "display_name": "R",
   "language": "R",
   "name": "ir"
  },
  "language_info": {
   "codemirror_mode": "r",
   "file_extension": ".r",
   "mimetype": "text/x-r-source",
   "name": "R",
   "pygments_lexer": "r",
   "version": "3.6.1"
  }
 },
 "nbformat": 4,
 "nbformat_minor": 5
}
