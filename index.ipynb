{
 "cells": [
  {
   "cell_type": "markdown",
   "id": "6c888ce3",
   "metadata": {
    "slideshow": {
     "slide_type": "slide"
    }
   },
   "source": [
    "An Analysis of @SullyBusiness"
   ]
  },
  {
   "cell_type": "code",
   "execution_count": 14,
   "id": "1fa729a3",
   "metadata": {
    "slideshow": {
     "slide_type": "skip"
    }
   },
   "outputs": [
    {
     "name": "stdout",
     "output_type": "stream",
     "text": [
      "\n",
      "  There is a binary version available but the source version is later:\n",
      "      binary source needs_compilation\n",
      "dplyr  1.0.6  1.0.7              TRUE\n",
      "\n",
      "  Binaries will be installed\n"
     ]
    },
    {
     "name": "stderr",
     "output_type": "stream",
     "text": [
      "Warning message:\n",
      "\"package 'dplyr' is in use and will not be installed\"Warning message:\n",
      "\"package 'xlsx' is in use and will not be installed\"Warning message:\n",
      "\"package 'tm' is in use and will not be installed\"Warning message:\n",
      "\"package 'SnowballC' is in use and will not be installed\"Warning message:\n",
      "\"package 'wordcloud' is in use and will not be installed\"Warning message:\n",
      "\"package 'RColorBrewer' is in use and will not be installed\"Warning message:\n",
      "\"package 'stringr' is in use and will not be installed\""
     ]
    },
    {
     "name": "stdout",
     "output_type": "stream",
     "text": [
      "\n",
      "  There is a binary version available but the source version is later:\n",
      "         binary source needs_compilation\n",
      "tidytext  0.3.1  0.3.2             FALSE\n",
      "\n"
     ]
    },
    {
     "name": "stderr",
     "output_type": "stream",
     "text": [
      "installing the source package 'tidytext'\n",
      "\n"
     ]
    },
    {
     "name": "stdout",
     "output_type": "stream",
     "text": [
      "\n",
      "  There is a binary version available but the source version is later:\n",
      "        binary source needs_compilation\n",
      "ggplot2  3.3.3  3.3.5             FALSE\n",
      "\n"
     ]
    },
    {
     "name": "stderr",
     "output_type": "stream",
     "text": [
      "installing the source package 'ggplot2'\n",
      "\n",
      "\n",
      "Attaching package: 'ggplot2'\n",
      "\n",
      "The following object is masked from 'package:NLP':\n",
      "\n",
      "    annotate\n",
      "\n"
     ]
    }
   ],
   "source": [
    "install.packages(\"dplyr\")\n",
    "library(\"dplyr\")\n",
    "\n",
    "install.packages(\"xlsx\")\n",
    "library(\"xlsx\")\n",
    "\n",
    "install.packages(\"tm\")  # for text mining\n",
    "library(\"tm\")\n",
    "\n",
    "install.packages(\"SnowballC\") # for text stemming\n",
    "library(\"SnowballC\")\n",
    "\n",
    "install.packages(\"wordcloud\") # word-cloud generator \n",
    "library(\"wordcloud\")\n",
    "\n",
    "install.packages(\"RColorBrewer\") # color palettes\n",
    "library(\"RColorBrewer\")\n",
    "\n",
    "install.packages(\"stringr\")\n",
    "library(\"stringr\")\n",
    "\n",
    "install.packages(\"tidytext\")\n",
    "library(\"tidytext\")\n",
    "\n",
    "install.packages(\"ggplot2\")\n",
    "library(\"ggplot2\")"
   ]
  },
  {
   "cell_type": "code",
   "execution_count": 3,
   "id": "4542b26c",
   "metadata": {
    "slideshow": {
     "slide_type": "skip"
    }
   },
   "outputs": [
    {
     "data": {
      "text/html": [
       "<table>\n",
       "<thead><tr><th scope=col>Tweet.Id</th><th scope=col>Text</th><th scope=col>Name</th><th scope=col>Screen.Name</th><th scope=col>UTC</th><th scope=col>Created.At</th><th scope=col>Favorites</th><th scope=col>Retweets</th><th scope=col>Language</th><th scope=col>Client</th><th scope=col>Tweet.Type</th><th scope=col>URLs</th><th scope=col>Hashtags</th><th scope=col>Mentions</th><th scope=col>Media.Type</th><th scope=col>Media.URLs</th></tr></thead>\n",
       "<tbody>\n",
       "\t<tr><td>1451971420888649737                                                                           </td><td>@CaptainNasdaq Mark Cuban? nice &lt;U+0001F90C&gt;&lt;U+0001F345&gt;&lt;U+0001F525&gt;        </td><td>Bryant Suellentrop                                                                            </td><td>SullyBusiness                                                                                 </td><td>2021-10-23T17:58:57.000Z                                                                      </td><td>Sat Oct 23 17:58:57 +0000 2021                                                                </td><td>1                                                                                             </td><td>0                                                                                             </td><td>en                                                                                            </td><td>&lt;a href=\"http://twitter.com/download/iphone\" rel=\"nofollow\"&gt;Twitter for iPhone&lt;/a&gt;</td><td>Reply                                                                                         </td><td>                                                                                              </td><td>0                                                                                             </td><td>1                                                                                             </td><td>                                                                                              </td><td>                                                                                              </td></tr>\n",
       "</tbody>\n",
       "</table>\n"
      ],
      "text/latex": [
       "\\begin{tabular}{r|llllllllllllllll}\n",
       " Tweet.Id & Text & Name & Screen.Name & UTC & Created.At & Favorites & Retweets & Language & Client & Tweet.Type & URLs & Hashtags & Mentions & Media.Type & Media.URLs\\\\\n",
       "\\hline\n",
       "\t 1451971420888649737                                                                & @CaptainNasdaq Mark Cuban? nice <U+0001F90C><U+0001F345><U+0001F525>               & Bryant Suellentrop                                                                 & SullyBusiness                                                                      & 2021-10-23T17:58:57.000Z                                                           & Sat Oct 23 17:58:57 +0000 2021                                                     & 1                                                                                  & 0                                                                                  & en                                                                                 & <a href=\"http://twitter.com/download/iphone\" rel=\"nofollow\">Twitter for iPhone</a> & Reply                                                                              &                                                                                    & 0                                                                                  & 1                                                                                  &                                                                                    &                                                                                   \\\\\n",
       "\\end{tabular}\n"
      ],
      "text/markdown": [
       "\n",
       "| Tweet.Id | Text | Name | Screen.Name | UTC | Created.At | Favorites | Retweets | Language | Client | Tweet.Type | URLs | Hashtags | Mentions | Media.Type | Media.URLs |\n",
       "|---|---|---|---|---|---|---|---|---|---|---|---|---|---|---|---|\n",
       "| 1451971420888649737                                                                | @CaptainNasdaq Mark Cuban? nice <U+0001F90C><U+0001F345><U+0001F525>               | Bryant Suellentrop                                                                 | SullyBusiness                                                                      | 2021-10-23T17:58:57.000Z                                                           | Sat Oct 23 17:58:57 +0000 2021                                                     | 1                                                                                  | 0                                                                                  | en                                                                                 | <a href=\"http://twitter.com/download/iphone\" rel=\"nofollow\">Twitter for iPhone</a> | Reply                                                                              |                                                                                    | 0                                                                                  | 1                                                                                  |                                                                                    |                                                                                    |\n",
       "\n"
      ],
      "text/plain": [
       "  Tweet.Id           \n",
       "1 1451971420888649737\n",
       "  Text                                                                \n",
       "1 @CaptainNasdaq Mark Cuban? nice <U+0001F90C><U+0001F345><U+0001F525>\n",
       "  Name               Screen.Name   UTC                     \n",
       "1 Bryant Suellentrop SullyBusiness 2021-10-23T17:58:57.000Z\n",
       "  Created.At                     Favorites Retweets Language\n",
       "1 Sat Oct 23 17:58:57 +0000 2021 1         0        en      \n",
       "  Client                                                                            \n",
       "1 <a href=\"http://twitter.com/download/iphone\" rel=\"nofollow\">Twitter for iPhone</a>\n",
       "  Tweet.Type URLs Hashtags Mentions Media.Type Media.URLs\n",
       "1 Reply           0        1                             "
      ]
     },
     "metadata": {},
     "output_type": "display_data"
    },
    {
     "data": {
      "text/html": [
       "3200"
      ],
      "text/latex": [
       "3200"
      ],
      "text/markdown": [
       "3200"
      ],
      "text/plain": [
       "[1] 3200"
      ]
     },
     "metadata": {},
     "output_type": "display_data"
    },
    {
     "data": {
      "text/html": [
       "<ol class=list-inline>\n",
       "\t<li>'Tweet.Id'</li>\n",
       "\t<li>'Text'</li>\n",
       "\t<li>'Name'</li>\n",
       "\t<li>'Screen.Name'</li>\n",
       "\t<li>'UTC'</li>\n",
       "\t<li>'Created.At'</li>\n",
       "\t<li>'Favorites'</li>\n",
       "\t<li>'Retweets'</li>\n",
       "\t<li>'Language'</li>\n",
       "\t<li>'Client'</li>\n",
       "\t<li>'Tweet.Type'</li>\n",
       "\t<li>'URLs'</li>\n",
       "\t<li>'Hashtags'</li>\n",
       "\t<li>'Mentions'</li>\n",
       "\t<li>'Media.Type'</li>\n",
       "\t<li>'Media.URLs'</li>\n",
       "</ol>\n"
      ],
      "text/latex": [
       "\\begin{enumerate*}\n",
       "\\item 'Tweet.Id'\n",
       "\\item 'Text'\n",
       "\\item 'Name'\n",
       "\\item 'Screen.Name'\n",
       "\\item 'UTC'\n",
       "\\item 'Created.At'\n",
       "\\item 'Favorites'\n",
       "\\item 'Retweets'\n",
       "\\item 'Language'\n",
       "\\item 'Client'\n",
       "\\item 'Tweet.Type'\n",
       "\\item 'URLs'\n",
       "\\item 'Hashtags'\n",
       "\\item 'Mentions'\n",
       "\\item 'Media.Type'\n",
       "\\item 'Media.URLs'\n",
       "\\end{enumerate*}\n"
      ],
      "text/markdown": [
       "1. 'Tweet.Id'\n",
       "2. 'Text'\n",
       "3. 'Name'\n",
       "4. 'Screen.Name'\n",
       "5. 'UTC'\n",
       "6. 'Created.At'\n",
       "7. 'Favorites'\n",
       "8. 'Retweets'\n",
       "9. 'Language'\n",
       "10. 'Client'\n",
       "11. 'Tweet.Type'\n",
       "12. 'URLs'\n",
       "13. 'Hashtags'\n",
       "14. 'Mentions'\n",
       "15. 'Media.Type'\n",
       "16. 'Media.URLs'\n",
       "\n",
       "\n"
      ],
      "text/plain": [
       " [1] \"Tweet.Id\"    \"Text\"        \"Name\"        \"Screen.Name\" \"UTC\"        \n",
       " [6] \"Created.At\"  \"Favorites\"   \"Retweets\"    \"Language\"    \"Client\"     \n",
       "[11] \"Tweet.Type\"  \"URLs\"        \"Hashtags\"    \"Mentions\"    \"Media.Type\" \n",
       "[16] \"Media.URLs\" "
      ]
     },
     "metadata": {},
     "output_type": "display_data"
    }
   ],
   "source": [
    "df = read.xlsx2(\"data/@sullybusiness_user_tweets.xlsx\",1,header=T)\n",
    "head(df,1)\n",
    "nrow(df)\n",
    "colnames(df)"
   ]
  },
  {
   "cell_type": "code",
   "execution_count": 111,
   "id": "e37b5b6b",
   "metadata": {
    "slideshow": {
     "slide_type": "slide"
    }
   },
   "outputs": [
    {
     "data": {
      "text/html": [
       "26"
      ],
      "text/latex": [
       "26"
      ],
      "text/markdown": [
       "26"
      ],
      "text/plain": [
       "[1] 26"
      ]
     },
     "metadata": {},
     "output_type": "display_data"
    },
    {
     "data": {
      "text/html": [
       "<ol class=list-inline>\n",
       "\t<li>'Idk why @olivegarden gets so much hate.\\n\\nI mean look at this delicious and authentic Italian cuisine. '</li>\n",
       "\t<li>'I mean, he’s right.\\n\\nEvery time I’ve taken a potential customer to Olive Garden we’ve landed the contract. \\U0001f956\\U0001f4b0 '</li>\n",
       "\t<li>'@jkostecki_rei @DouglasDowellJD @hexagraeme @LiamKircher Idk man the authentic Italian places charge like crazy and we busy as ever. Consumers have the taste for it to be sustainable, just not everywhere.'</li>\n",
       "\t<li>'@LiamKircher Asking a man why he likes unlimited breadsticks and salad is, well foolish at best.'</li>\n",
       "\t<li>'@NickatFP ☑️Olive Garden\\n☑️Employee Issues\\n☑️\\U0001f476\\U0001f3fb\\n\\u274c k club'</li>\n",
       "\t<li>'@girdley Wrong.\\n\\nBest part is you are never further than five miles from an Olive Garden. '</li>\n",
       "\t<li>'Feeling super grateful for all folks who have brought our family imitation Olive Garden this week.\\n\\nHas made adjusting to life with the baby much easier.\\n\\nStill not quite as tasty as the OG.'</li>\n",
       "\t<li>'@joewebber_ @valueterminal @Fazolis Get out of here with that fake Olive Garden. '</li>\n",
       "\t<li>'Should have grabbed him some salad and breadsticks (unlimited)\\n\\nNobody would turn that down. \\U0001f957\\U0001f956'</li>\n",
       "\t<li><span style=white-space:pre-wrap>'RT @SpiritofPines : It is unbelievably simple to become a millionaire.\\n\\nStep : Order unlimited breadsticks from Olive Garden.\\n\\nStep : Resell for $ a piece\\n\\nStep : Repeat  million times.\\n\\nStep : You’re a literal millionaire.'</span></li>\n",
       "\t<li>'@StudentRentPro Shots fired at Olive Garden? '</li>\n",
       "\t<li>'@CaptainNasdaq bf who likes Olive Garden, gf who likes Olive Garden'</li>\n",
       "\t<li>'Why do all great men want the same thing and why is it @olivegarden?'</li>\n",
       "\t<li>'Business idea:\\n\\nOlive Garden as a service. \\n\\n$k. (per year)\\n\\nWe deliver unlimited breadsticks and salad to you whenever and wherever you want.\\n\\nDoes that work?'</li>\n",
       "\t<li>'@girdley You misspelled Olive Garden. \\U0001f956'</li>\n",
       "\t<li>'@ERodz I\\'ve never had unlimited salad and breadsticks at Chilis...have you?\\n\\nNo? That\\'s what I thought. '</li>\n",
       "\t<li>'@Molson_Hart I haven\\'t seen anything this polarizing since the @Chilis vs @olivegarden debate.'</li>\n",
       "\t<li>'.@olivegarden&amp;gt;@Chilis&amp;gt;@DaveRamsey '</li>\n",
       "\t<li>'Might have to go for some Olive Garden after this dub.\\n\\n(better than @Chilis)'</li>\n",
       "\t<li>'.@olivegarden &amp;gt; @Chilis \\n\\nAll \\U0001f4e0 no \\U0001f5a8. '</li>\n",
       "\t<li>'@girdley I didn’t choose @olivegarden.\\n\\n@olivegarden chose me. '</li>\n",
       "\t<li>'@girdley @jayvasdigital That is actually the guy I saw at Olive Garden last night.'</li>\n",
       "\t<li>'@jkostecki_rei @SpiritofPines Sure, but my own home doesn’t have “limitless salad and breadsticks”'</li>\n",
       "\t<li>'@SpiritofPines Some have the audacity to go to Olive Garden.\\n\\nMaking known who is labor and who is capital.\\n\\nAppalling.'</li>\n",
       "\t<li>'I too am at Olive Garden.\\n\\nThe folly surrounds us.'</li>\n",
       "\t<li>'Guy at Olive Garden asking, “what is your top shelf red wine?”'</li>\n",
       "</ol>\n"
      ],
      "text/latex": [
       "\\begin{enumerate*}\n",
       "\\item 'Idk why @olivegarden gets so much hate.\\textbackslash{}n\\textbackslash{}nI mean look at this delicious and authentic Italian cuisine. '\n",
       "\\item 'I mean, he’s right.\\textbackslash{}n\\textbackslash{}nEvery time I’ve taken a potential customer to Olive Garden we’ve landed the contract. \\textbackslash{}U0001f956\\textbackslash{}U0001f4b0 '\n",
       "\\item '@jkostecki\\_rei @DouglasDowellJD @hexagraeme @LiamKircher Idk man the authentic Italian places charge like crazy and we busy as ever. Consumers have the taste for it to be sustainable, just not everywhere.'\n",
       "\\item '@LiamKircher Asking a man why he likes unlimited breadsticks and salad is, well foolish at best.'\n",
       "\\item '@NickatFP ☑️Olive Garden\\textbackslash{}n☑️Employee Issues\\textbackslash{}n☑️\\textbackslash{}U0001f476\\textbackslash{}U0001f3fb\\textbackslash{}n\\textbackslash{}u274c k club'\n",
       "\\item '@girdley Wrong.\\textbackslash{}n\\textbackslash{}nBest part is you are never further than five miles from an Olive Garden. '\n",
       "\\item 'Feeling super grateful for all folks who have brought our family imitation Olive Garden this week.\\textbackslash{}n\\textbackslash{}nHas made adjusting to life with the baby much easier.\\textbackslash{}n\\textbackslash{}nStill not quite as tasty as the OG.'\n",
       "\\item '@joewebber\\_ @valueterminal @Fazolis Get out of here with that fake Olive Garden. '\n",
       "\\item 'Should have grabbed him some salad and breadsticks (unlimited)\\textbackslash{}n\\textbackslash{}nNobody would turn that down. \\textbackslash{}U0001f957\\textbackslash{}U0001f956'\n",
       "\\item 'RT @SpiritofPines : It is unbelievably simple to become a millionaire.\\textbackslash{}n\\textbackslash{}nStep : Order unlimited breadsticks from Olive Garden.\\textbackslash{}n\\textbackslash{}nStep : Resell for \\$ a piece\\textbackslash{}n\\textbackslash{}nStep : Repeat  million times.\\textbackslash{}n\\textbackslash{}nStep : You’re a literal millionaire.'\n",
       "\\item '@StudentRentPro Shots fired at Olive Garden? '\n",
       "\\item '@CaptainNasdaq bf who likes Olive Garden, gf who likes Olive Garden'\n",
       "\\item 'Why do all great men want the same thing and why is it @olivegarden?'\n",
       "\\item 'Business idea:\\textbackslash{}n\\textbackslash{}nOlive Garden as a service. \\textbackslash{}n\\textbackslash{}n\\$k. (per year)\\textbackslash{}n\\textbackslash{}nWe deliver unlimited breadsticks and salad to you whenever and wherever you want.\\textbackslash{}n\\textbackslash{}nDoes that work?'\n",
       "\\item '@girdley You misspelled Olive Garden. \\textbackslash{}U0001f956'\n",
       "\\item '@ERodz I\\textbackslash{}'ve never had unlimited salad and breadsticks at Chilis...have you?\\textbackslash{}n\\textbackslash{}nNo? That\\textbackslash{}'s what I thought. '\n",
       "\\item '@Molson\\_Hart I haven\\textbackslash{}'t seen anything this polarizing since the @Chilis vs @olivegarden debate.'\n",
       "\\item '.@olivegarden\\&gt;@Chilis\\&gt;@DaveRamsey '\n",
       "\\item 'Might have to go for some Olive Garden after this dub.\\textbackslash{}n\\textbackslash{}n(better than @Chilis)'\n",
       "\\item '.@olivegarden \\&gt; @Chilis \\textbackslash{}n\\textbackslash{}nAll \\textbackslash{}U0001f4e0 no \\textbackslash{}U0001f5a8. '\n",
       "\\item '@girdley I didn’t choose @olivegarden.\\textbackslash{}n\\textbackslash{}n@olivegarden chose me. '\n",
       "\\item '@girdley @jayvasdigital That is actually the guy I saw at Olive Garden last night.'\n",
       "\\item '@jkostecki\\_rei @SpiritofPines Sure, but my own home doesn’t have “limitless salad and breadsticks”'\n",
       "\\item '@SpiritofPines Some have the audacity to go to Olive Garden.\\textbackslash{}n\\textbackslash{}nMaking known who is labor and who is capital.\\textbackslash{}n\\textbackslash{}nAppalling.'\n",
       "\\item 'I too am at Olive Garden.\\textbackslash{}n\\textbackslash{}nThe folly surrounds us.'\n",
       "\\item 'Guy at Olive Garden asking, “what is your top shelf red wine?”'\n",
       "\\end{enumerate*}\n"
      ],
      "text/markdown": [
       "1. 'Idk why @olivegarden gets so much hate.\\n\\nI mean look at this delicious and authentic Italian cuisine. '\n",
       "2. 'I mean, he’s right.\\n\\nEvery time I’ve taken a potential customer to Olive Garden we’ve landed the contract. \\U0001f956\\U0001f4b0 '\n",
       "3. '@jkostecki_rei @DouglasDowellJD @hexagraeme @LiamKircher Idk man the authentic Italian places charge like crazy and we busy as ever. Consumers have the taste for it to be sustainable, just not everywhere.'\n",
       "4. '@LiamKircher Asking a man why he likes unlimited breadsticks and salad is, well foolish at best.'\n",
       "5. '@NickatFP ☑️Olive Garden\\n☑️Employee Issues\\n☑️\\U0001f476\\U0001f3fb\\n\\u274c k club'\n",
       "6. '@girdley Wrong.\\n\\nBest part is you are never further than five miles from an Olive Garden. '\n",
       "7. 'Feeling super grateful for all folks who have brought our family imitation Olive Garden this week.\\n\\nHas made adjusting to life with the baby much easier.\\n\\nStill not quite as tasty as the OG.'\n",
       "8. '@joewebber_ @valueterminal @Fazolis Get out of here with that fake Olive Garden. '\n",
       "9. 'Should have grabbed him some salad and breadsticks (unlimited)\\n\\nNobody would turn that down. \\U0001f957\\U0001f956'\n",
       "10. <span style=white-space:pre-wrap>'RT @SpiritofPines : It is unbelievably simple to become a millionaire.\\n\\nStep : Order unlimited breadsticks from Olive Garden.\\n\\nStep : Resell for $ a piece\\n\\nStep : Repeat  million times.\\n\\nStep : You’re a literal millionaire.'</span>\n",
       "11. '@StudentRentPro Shots fired at Olive Garden? '\n",
       "12. '@CaptainNasdaq bf who likes Olive Garden, gf who likes Olive Garden'\n",
       "13. 'Why do all great men want the same thing and why is it @olivegarden?'\n",
       "14. 'Business idea:\\n\\nOlive Garden as a service. \\n\\n$k. (per year)\\n\\nWe deliver unlimited breadsticks and salad to you whenever and wherever you want.\\n\\nDoes that work?'\n",
       "15. '@girdley You misspelled Olive Garden. \\U0001f956'\n",
       "16. '@ERodz I\\'ve never had unlimited salad and breadsticks at Chilis...have you?\\n\\nNo? That\\'s what I thought. '\n",
       "17. '@Molson_Hart I haven\\'t seen anything this polarizing since the @Chilis vs @olivegarden debate.'\n",
       "18. '.@olivegarden&amp;gt;@Chilis&amp;gt;@DaveRamsey '\n",
       "19. 'Might have to go for some Olive Garden after this dub.\\n\\n(better than @Chilis)'\n",
       "20. '.@olivegarden &amp;gt; @Chilis \\n\\nAll \\U0001f4e0 no \\U0001f5a8. '\n",
       "21. '@girdley I didn’t choose @olivegarden.\\n\\n@olivegarden chose me. '\n",
       "22. '@girdley @jayvasdigital That is actually the guy I saw at Olive Garden last night.'\n",
       "23. '@jkostecki_rei @SpiritofPines Sure, but my own home doesn’t have “limitless salad and breadsticks”'\n",
       "24. '@SpiritofPines Some have the audacity to go to Olive Garden.\\n\\nMaking known who is labor and who is capital.\\n\\nAppalling.'\n",
       "25. 'I too am at Olive Garden.\\n\\nThe folly surrounds us.'\n",
       "26. 'Guy at Olive Garden asking, “what is your top shelf red wine?”'\n",
       "\n",
       "\n"
      ],
      "text/plain": [
       " [1] \"Idk why @olivegarden gets so much hate.\\n\\nI mean look at this delicious and authentic Italian cuisine. \"                                                                                                                               \n",
       " [2] \"I mean, he’s right.\\n\\nEvery time I’ve taken a potential customer to Olive Garden we’ve landed the contract. <U+0001F956><U+0001F4B0> \"                                                                                                 \n",
       " [3] \"@jkostecki_rei @DouglasDowellJD @hexagraeme @LiamKircher Idk man the authentic Italian places charge like crazy and we busy as ever. Consumers have the taste for it to be sustainable, just not everywhere.\"                           \n",
       " [4] \"@LiamKircher Asking a man why he likes unlimited breadsticks and salad is, well foolish at best.\"                                                                                                                                       \n",
       " [5] \"@NickatFP <U+2611><U+FE0F>Olive Garden\\n<U+2611><U+FE0F>Employee Issues\\n<U+2611><U+FE0F><U+0001F476><U+0001F3FB>\\n<U+274C> k club\"                                                                                                     \n",
       " [6] \"@girdley Wrong.\\n\\nBest part is you are never further than five miles from an Olive Garden. \"                                                                                                                                           \n",
       " [7] \"Feeling super grateful for all folks who have brought our family imitation Olive Garden this week.\\n\\nHas made adjusting to life with the baby much easier.\\n\\nStill not quite as tasty as the OG.\"                                     \n",
       " [8] \"@joewebber_ @valueterminal @Fazolis Get out of here with that fake Olive Garden. \"                                                                                                                                                      \n",
       " [9] \"Should have grabbed him some salad and breadsticks (unlimited)\\n\\nNobody would turn that down. <U+0001F957><U+0001F956>\"                                                                                                                \n",
       "[10] \"RT @SpiritofPines : It is unbelievably simple to become a millionaire.\\n\\nStep : Order unlimited breadsticks from Olive Garden.\\n\\nStep : Resell for $ a piece\\n\\nStep : Repeat  million times.\\n\\nStep : You’re a literal millionaire.\"\n",
       "[11] \"@StudentRentPro Shots fired at Olive Garden? \"                                                                                                                                                                                          \n",
       "[12] \"@CaptainNasdaq bf who likes Olive Garden, gf who likes Olive Garden\"                                                                                                                                                                    \n",
       "[13] \"Why do all great men want the same thing and why is it @olivegarden?\"                                                                                                                                                                   \n",
       "[14] \"Business idea:\\n\\nOlive Garden as a service. \\n\\n$k. (per year)\\n\\nWe deliver unlimited breadsticks and salad to you whenever and wherever you want.\\n\\nDoes that work?\"                                                                \n",
       "[15] \"@girdley You misspelled Olive Garden. <U+0001F956>\"                                                                                                                                                                                     \n",
       "[16] \"@ERodz I've never had unlimited salad and breadsticks at Chilis...have you?\\n\\nNo? That's what I thought. \"                                                                                                                             \n",
       "[17] \"@Molson_Hart I haven't seen anything this polarizing since the @Chilis vs @olivegarden debate.\"                                                                                                                                         \n",
       "[18] \".@olivegarden&gt;@Chilis&gt;@DaveRamsey \"                                                                                                                                                                                               \n",
       "[19] \"Might have to go for some Olive Garden after this dub.\\n\\n(better than @Chilis)\"                                                                                                                                                        \n",
       "[20] \".@olivegarden &gt; @Chilis \\n\\nAll <U+0001F4E0> no <U+0001F5A8>. \"                                                                                                                                                                      \n",
       "[21] \"@girdley I didn’t choose @olivegarden.\\n\\n@olivegarden chose me. \"                                                                                                                                                                      \n",
       "[22] \"@girdley @jayvasdigital That is actually the guy I saw at Olive Garden last night.\"                                                                                                                                                     \n",
       "[23] \"@jkostecki_rei @SpiritofPines Sure, but my own home doesn’t have “limitless salad and breadsticks”\"                                                                                                                                     \n",
       "[24] \"@SpiritofPines Some have the audacity to go to Olive Garden.\\n\\nMaking known who is labor and who is capital.\\n\\nAppalling.\"                                                                                                            \n",
       "[25] \"I too am at Olive Garden.\\n\\nThe folly surrounds us.\"                                                                                                                                                                                   \n",
       "[26] \"Guy at Olive Garden asking, “what is your top shelf red wine?”\"                                                                                                                                                                         "
      ]
     },
     "metadata": {},
     "output_type": "display_data"
    }
   ],
   "source": [
    "x = \"Olive Garden|olive garden|olivegarden|breadstick|Italian\"\n",
    "temp = df %>% mutate(flag=ifelse(grepl(x, Text), 1, 0)) %>% select(Text,flag) %>% filter(flag==1)\n",
    "\n",
    "nrow(temp)\n",
    "temp$Text"
   ]
  },
  {
   "cell_type": "code",
   "execution_count": 115,
   "id": "ee99a85a",
   "metadata": {
    "slideshow": {
     "slide_type": "slide"
    }
   },
   "outputs": [
    {
     "data": {
      "text/html": [
       "26"
      ],
      "text/latex": [
       "26"
      ],
      "text/markdown": [
       "26"
      ],
      "text/plain": [
       "[1] 26"
      ]
     },
     "metadata": {},
     "output_type": "display_data"
    },
    {
     "data": {
      "text/html": [
       "<table>\n",
       "<thead><tr><th scope=col>Text</th></tr></thead>\n",
       "<tbody>\n",
       "\t<tr><td>Idk why @olivegarden gets so much hate.\n",
       "\n",
       "I mean look at this delicious and authentic Italian cuisine.                                                                                                                                </td></tr>\n",
       "\t<tr><td><span style=white-space:pre-wrap>I mean, he’s right.\n",
       "\n",
       "Every time I’ve taken a potential customer to Olive Garden we’ve landed the contract. &lt;U+0001F956&gt;&lt;U+0001F4B0&gt;                                                                                                  </span></td></tr>\n",
       "\t<tr><td>@jkostecki_rei @DouglasDowellJD @hexagraeme @LiamKircher Idk man the authentic Italian places charge like crazy and we busy as ever. Consumers have the taste for it to be sustainable, just not everywhere.                           </td></tr>\n",
       "\t<tr><td>@LiamKircher Asking a man why he likes unlimited breadsticks and salad is, well foolish at best.                                                                                                                                       </td></tr>\n",
       "\t<tr><td><span style=white-space:pre-wrap>@NickatFP &lt;U+2611&gt;&lt;U+FE0F&gt;Olive Garden\n",
       "&lt;U+2611&gt;&lt;U+FE0F&gt;Employee Issues\n",
       "&lt;U+2611&gt;&lt;U+FE0F&gt;&lt;U+0001F476&gt;&lt;U+0001F3FB&gt;\n",
       "&lt;U+274C&gt; k club                                                                                                     </span></td></tr>\n",
       "\t<tr><td>@girdley Wrong.\n",
       "\n",
       "Best part is you are never further than five miles from an Olive Garden.                                                                                                                                            </td></tr>\n",
       "\t<tr><td>Feeling super grateful for all folks who have brought our family imitation Olive Garden this week.\n",
       "\n",
       "Has made adjusting to life with the baby much easier.\n",
       "\n",
       "Still not quite as tasty as the OG.                                     </td></tr>\n",
       "\t<tr><td>@joewebber_ @valueterminal @Fazolis Get out of here with that fake Olive Garden.                                                                                                                                                       </td></tr>\n",
       "\t<tr><td><span style=white-space:pre-wrap>Should have grabbed him some salad and breadsticks (unlimited)\n",
       "\n",
       "Nobody would turn that down. &lt;U+0001F957&gt;&lt;U+0001F956&gt;                                                                                                                </span></td></tr>\n",
       "\t<tr><td>RT @SpiritofPines : It is unbelievably simple to become a millionaire.\n",
       "\n",
       "Step : Order unlimited breadsticks from Olive Garden.\n",
       "\n",
       "Step : Resell for $ a piece\n",
       "\n",
       "Step : Repeat  million times.\n",
       "\n",
       "Step : You’re a literal millionaire.</td></tr>\n",
       "\t<tr><td>@StudentRentPro Shots fired at Olive Garden?                                                                                                                                                                                           </td></tr>\n",
       "\t<tr><td>@CaptainNasdaq bf who likes Olive Garden, gf who likes Olive Garden                                                                                                                                                                    </td></tr>\n",
       "\t<tr><td>Why do all great men want the same thing and why is it @olivegarden?                                                                                                                                                                   </td></tr>\n",
       "\t<tr><td>Business idea:\n",
       "\n",
       "Olive Garden as a service. \n",
       "\n",
       "$k. (per year)\n",
       "\n",
       "We deliver unlimited breadsticks and salad to you whenever and wherever you want.\n",
       "\n",
       "Does that work?                                                                </td></tr>\n",
       "\t<tr><td><span style=white-space:pre-wrap>@girdley You misspelled Olive Garden. &lt;U+0001F956&gt;                                                                                                                                                                                     </span></td></tr>\n",
       "\t<tr><td>@ERodz I've never had unlimited salad and breadsticks at Chilis...have you?\n",
       "\n",
       "No? That's what I thought.                                                                                                                              </td></tr>\n",
       "\t<tr><td>@Molson_Hart I haven't seen anything this polarizing since the @Chilis vs @olivegarden debate.                                                                                                                                         </td></tr>\n",
       "\t<tr><td><span style=white-space:pre-wrap>.@olivegarden&amp;gt;@Chilis&amp;gt;@DaveRamsey                                                                                                                                                                                                </span></td></tr>\n",
       "\t<tr><td>Might have to go for some Olive Garden after this dub.\n",
       "\n",
       "(better than @Chilis)                                                                                                                                                        </td></tr>\n",
       "\t<tr><td><span style=white-space:pre-wrap>.@olivegarden &amp;gt; @Chilis \n",
       "\n",
       "All &lt;U+0001F4E0&gt; no &lt;U+0001F5A8&gt;.                                                                                                                                                                       </span></td></tr>\n",
       "\t<tr><td>@girdley I didn’t choose @olivegarden.\n",
       "\n",
       "@olivegarden chose me.                                                                                                                                                                       </td></tr>\n",
       "\t<tr><td>@girdley @jayvasdigital That is actually the guy I saw at Olive Garden last night.                                                                                                                                                     </td></tr>\n",
       "\t<tr><td>@jkostecki_rei @SpiritofPines Sure, but my own home doesn’t have “limitless salad and breadsticks”                                                                                                                                     </td></tr>\n",
       "\t<tr><td>@SpiritofPines Some have the audacity to go to Olive Garden.\n",
       "\n",
       "Making known who is labor and who is capital.\n",
       "\n",
       "Appalling.                                                                                                            </td></tr>\n",
       "\t<tr><td>I too am at Olive Garden.\n",
       "\n",
       "The folly surrounds us.                                                                                                                                                                                   </td></tr>\n",
       "\t<tr><td>Guy at Olive Garden asking, “what is your top shelf red wine?”                                                                                                                                                                         </td></tr>\n",
       "</tbody>\n",
       "</table>\n"
      ],
      "text/latex": [
       "\\begin{tabular}{r|l}\n",
       " Text\\\\\n",
       "\\hline\n",
       "\t Idk why @olivegarden gets so much hate.\n",
       "\n",
       "I mean look at this delicious and authentic Italian cuisine.                                                                                                                                \\\\\n",
       "\t I mean, he’s right.\n",
       "\n",
       "Every time I’ve taken a potential customer to Olive Garden we’ve landed the contract. <U+0001F956><U+0001F4B0>                                                                                                  \\\\\n",
       "\t @jkostecki\\_rei @DouglasDowellJD @hexagraeme @LiamKircher Idk man the authentic Italian places charge like crazy and we busy as ever. Consumers have the taste for it to be sustainable, just not everywhere.                           \\\\\n",
       "\t @LiamKircher Asking a man why he likes unlimited breadsticks and salad is, well foolish at best.                                                                                                                                       \\\\\n",
       "\t @NickatFP <U+2611><U+FE0F>Olive Garden\n",
       "<U+2611><U+FE0F>Employee Issues\n",
       "<U+2611><U+FE0F><U+0001F476><U+0001F3FB>\n",
       "<U+274C> k club                                                                                                     \\\\\n",
       "\t @girdley Wrong.\n",
       "\n",
       "Best part is you are never further than five miles from an Olive Garden.                                                                                                                                            \\\\\n",
       "\t Feeling super grateful for all folks who have brought our family imitation Olive Garden this week.\n",
       "\n",
       "Has made adjusting to life with the baby much easier.\n",
       "\n",
       "Still not quite as tasty as the OG.                                     \\\\\n",
       "\t @joewebber\\_ @valueterminal @Fazolis Get out of here with that fake Olive Garden.                                                                                                                                                       \\\\\n",
       "\t Should have grabbed him some salad and breadsticks (unlimited)\n",
       "\n",
       "Nobody would turn that down. <U+0001F957><U+0001F956>                                                                                                                \\\\\n",
       "\t RT @SpiritofPines : It is unbelievably simple to become a millionaire.\n",
       "\n",
       "Step : Order unlimited breadsticks from Olive Garden.\n",
       "\n",
       "Step : Resell for \\$ a piece\n",
       "\n",
       "Step : Repeat  million times.\n",
       "\n",
       "Step : You’re a literal millionaire.\\\\\n",
       "\t @StudentRentPro Shots fired at Olive Garden?                                                                                                                                                                                           \\\\\n",
       "\t @CaptainNasdaq bf who likes Olive Garden, gf who likes Olive Garden                                                                                                                                                                    \\\\\n",
       "\t Why do all great men want the same thing and why is it @olivegarden?                                                                                                                                                                   \\\\\n",
       "\t Business idea:\n",
       "\n",
       "Olive Garden as a service. \n",
       "\n",
       "\\$k. (per year)\n",
       "\n",
       "We deliver unlimited breadsticks and salad to you whenever and wherever you want.\n",
       "\n",
       "Does that work?                                                                \\\\\n",
       "\t @girdley You misspelled Olive Garden. <U+0001F956>                                                                                                                                                                                     \\\\\n",
       "\t @ERodz I've never had unlimited salad and breadsticks at Chilis...have you?\n",
       "\n",
       "No? That's what I thought.                                                                                                                              \\\\\n",
       "\t @Molson\\_Hart I haven't seen anything this polarizing since the @Chilis vs @olivegarden debate.                                                                                                                                         \\\\\n",
       "\t .@olivegarden\\&gt;@Chilis\\&gt;@DaveRamsey                                                                                                                                                                                                \\\\\n",
       "\t Might have to go for some Olive Garden after this dub.\n",
       "\n",
       "(better than @Chilis)                                                                                                                                                        \\\\\n",
       "\t .@olivegarden \\&gt; @Chilis \n",
       "\n",
       "All <U+0001F4E0> no <U+0001F5A8>.                                                                                                                                                                       \\\\\n",
       "\t @girdley I didn’t choose @olivegarden.\n",
       "\n",
       "@olivegarden chose me.                                                                                                                                                                       \\\\\n",
       "\t @girdley @jayvasdigital That is actually the guy I saw at Olive Garden last night.                                                                                                                                                     \\\\\n",
       "\t @jkostecki\\_rei @SpiritofPines Sure, but my own home doesn’t have “limitless salad and breadsticks”                                                                                                                                     \\\\\n",
       "\t @SpiritofPines Some have the audacity to go to Olive Garden.\n",
       "\n",
       "Making known who is labor and who is capital.\n",
       "\n",
       "Appalling.                                                                                                            \\\\\n",
       "\t I too am at Olive Garden.\n",
       "\n",
       "The folly surrounds us.                                                                                                                                                                                   \\\\\n",
       "\t Guy at Olive Garden asking, “what is your top shelf red wine?”                                                                                                                                                                         \\\\\n",
       "\\end{tabular}\n"
      ],
      "text/markdown": [
       "\n",
       "| Text |\n",
       "|---|\n",
       "| Idk why @olivegarden gets so much hate.\n",
       "\n",
       "I mean look at this delicious and authentic Italian cuisine.                                                                                                                                 |\n",
       "| I mean, he’s right.\n",
       "\n",
       "Every time I’ve taken a potential customer to Olive Garden we’ve landed the contract. <U+0001F956><U+0001F4B0>                                                                                                   |\n",
       "| @jkostecki_rei @DouglasDowellJD @hexagraeme @LiamKircher Idk man the authentic Italian places charge like crazy and we busy as ever. Consumers have the taste for it to be sustainable, just not everywhere.                            |\n",
       "| @LiamKircher Asking a man why he likes unlimited breadsticks and salad is, well foolish at best.                                                                                                                                        |\n",
       "| @NickatFP <U+2611><U+FE0F>Olive Garden\n",
       "<U+2611><U+FE0F>Employee Issues\n",
       "<U+2611><U+FE0F><U+0001F476><U+0001F3FB>\n",
       "<U+274C> k club                                                                                                      |\n",
       "| @girdley Wrong.\n",
       "\n",
       "Best part is you are never further than five miles from an Olive Garden.                                                                                                                                             |\n",
       "| Feeling super grateful for all folks who have brought our family imitation Olive Garden this week.\n",
       "\n",
       "Has made adjusting to life with the baby much easier.\n",
       "\n",
       "Still not quite as tasty as the OG.                                      |\n",
       "| @joewebber_ @valueterminal @Fazolis Get out of here with that fake Olive Garden.                                                                                                                                                        |\n",
       "| Should have grabbed him some salad and breadsticks (unlimited)\n",
       "\n",
       "Nobody would turn that down. <U+0001F957><U+0001F956>                                                                                                                 |\n",
       "| RT @SpiritofPines : It is unbelievably simple to become a millionaire.\n",
       "\n",
       "Step : Order unlimited breadsticks from Olive Garden.\n",
       "\n",
       "Step : Resell for $ a piece\n",
       "\n",
       "Step : Repeat  million times.\n",
       "\n",
       "Step : You’re a literal millionaire. |\n",
       "| @StudentRentPro Shots fired at Olive Garden?                                                                                                                                                                                            |\n",
       "| @CaptainNasdaq bf who likes Olive Garden, gf who likes Olive Garden                                                                                                                                                                     |\n",
       "| Why do all great men want the same thing and why is it @olivegarden?                                                                                                                                                                    |\n",
       "| Business idea:\n",
       "\n",
       "Olive Garden as a service. \n",
       "\n",
       "$k. (per year)\n",
       "\n",
       "We deliver unlimited breadsticks and salad to you whenever and wherever you want.\n",
       "\n",
       "Does that work?                                                                 |\n",
       "| @girdley You misspelled Olive Garden. <U+0001F956>                                                                                                                                                                                      |\n",
       "| @ERodz I've never had unlimited salad and breadsticks at Chilis...have you?\n",
       "\n",
       "No? That's what I thought.                                                                                                                               |\n",
       "| @Molson_Hart I haven't seen anything this polarizing since the @Chilis vs @olivegarden debate.                                                                                                                                          |\n",
       "| .@olivegarden&gt;@Chilis&gt;@DaveRamsey                                                                                                                                                                                                 |\n",
       "| Might have to go for some Olive Garden after this dub.\n",
       "\n",
       "(better than @Chilis)                                                                                                                                                         |\n",
       "| .@olivegarden &gt; @Chilis \n",
       "\n",
       "All <U+0001F4E0> no <U+0001F5A8>.                                                                                                                                                                        |\n",
       "| @girdley I didn’t choose @olivegarden.\n",
       "\n",
       "@olivegarden chose me.                                                                                                                                                                        |\n",
       "| @girdley @jayvasdigital That is actually the guy I saw at Olive Garden last night.                                                                                                                                                      |\n",
       "| @jkostecki_rei @SpiritofPines Sure, but my own home doesn’t have “limitless salad and breadsticks”                                                                                                                                      |\n",
       "| @SpiritofPines Some have the audacity to go to Olive Garden.\n",
       "\n",
       "Making known who is labor and who is capital.\n",
       "\n",
       "Appalling.                                                                                                             |\n",
       "| I too am at Olive Garden.\n",
       "\n",
       "The folly surrounds us.                                                                                                                                                                                    |\n",
       "| Guy at Olive Garden asking, “what is your top shelf red wine?”                                                                                                                                                                          |\n",
       "\n"
      ],
      "text/plain": [
       "   Text                                                                                                                                                                                                                                   \n",
       "1  Idk why @olivegarden gets so much hate.\\n\\nI mean look at this delicious and authentic Italian cuisine.                                                                                                                                \n",
       "2  I mean, he’s right.\\n\\nEvery time I’ve taken a potential customer to Olive Garden we’ve landed the contract. <U+0001F956><U+0001F4B0>                                                                                                  \n",
       "3  @jkostecki_rei @DouglasDowellJD @hexagraeme @LiamKircher Idk man the authentic Italian places charge like crazy and we busy as ever. Consumers have the taste for it to be sustainable, just not everywhere.                           \n",
       "4  @LiamKircher Asking a man why he likes unlimited breadsticks and salad is, well foolish at best.                                                                                                                                       \n",
       "5  @NickatFP <U+2611><U+FE0F>Olive Garden\\n<U+2611><U+FE0F>Employee Issues\\n<U+2611><U+FE0F><U+0001F476><U+0001F3FB>\\n<U+274C> k club                                                                                                     \n",
       "6  @girdley Wrong.\\n\\nBest part is you are never further than five miles from an Olive Garden.                                                                                                                                            \n",
       "7  Feeling super grateful for all folks who have brought our family imitation Olive Garden this week.\\n\\nHas made adjusting to life with the baby much easier.\\n\\nStill not quite as tasty as the OG.                                     \n",
       "8  @joewebber_ @valueterminal @Fazolis Get out of here with that fake Olive Garden.                                                                                                                                                       \n",
       "9  Should have grabbed him some salad and breadsticks (unlimited)\\n\\nNobody would turn that down. <U+0001F957><U+0001F956>                                                                                                                \n",
       "10 RT @SpiritofPines : It is unbelievably simple to become a millionaire.\\n\\nStep : Order unlimited breadsticks from Olive Garden.\\n\\nStep : Resell for $ a piece\\n\\nStep : Repeat  million times.\\n\\nStep : You’re a literal millionaire.\n",
       "11 @StudentRentPro Shots fired at Olive Garden?                                                                                                                                                                                           \n",
       "12 @CaptainNasdaq bf who likes Olive Garden, gf who likes Olive Garden                                                                                                                                                                    \n",
       "13 Why do all great men want the same thing and why is it @olivegarden?                                                                                                                                                                   \n",
       "14 Business idea:\\n\\nOlive Garden as a service. \\n\\n$k. (per year)\\n\\nWe deliver unlimited breadsticks and salad to you whenever and wherever you want.\\n\\nDoes that work?                                                                \n",
       "15 @girdley You misspelled Olive Garden. <U+0001F956>                                                                                                                                                                                     \n",
       "16 @ERodz I've never had unlimited salad and breadsticks at Chilis...have you?\\n\\nNo? That's what I thought.                                                                                                                              \n",
       "17 @Molson_Hart I haven't seen anything this polarizing since the @Chilis vs @olivegarden debate.                                                                                                                                         \n",
       "18 .@olivegarden&gt;@Chilis&gt;@DaveRamsey                                                                                                                                                                                                \n",
       "19 Might have to go for some Olive Garden after this dub.\\n\\n(better than @Chilis)                                                                                                                                                        \n",
       "20 .@olivegarden &gt; @Chilis \\n\\nAll <U+0001F4E0> no <U+0001F5A8>.                                                                                                                                                                       \n",
       "21 @girdley I didn’t choose @olivegarden.\\n\\n@olivegarden chose me.                                                                                                                                                                       \n",
       "22 @girdley @jayvasdigital That is actually the guy I saw at Olive Garden last night.                                                                                                                                                     \n",
       "23 @jkostecki_rei @SpiritofPines Sure, but my own home doesn’t have “limitless salad and breadsticks”                                                                                                                                     \n",
       "24 @SpiritofPines Some have the audacity to go to Olive Garden.\\n\\nMaking known who is labor and who is capital.\\n\\nAppalling.                                                                                                            \n",
       "25 I too am at Olive Garden.\\n\\nThe folly surrounds us.                                                                                                                                                                                   \n",
       "26 Guy at Olive Garden asking, “what is your top shelf red wine?”                                                                                                                                                                         "
      ]
     },
     "metadata": {},
     "output_type": "display_data"
    }
   ],
   "source": [
    "x = \"Olive Garden|olive garden|olivegarden|breadstick|Italian\"\n",
    "tweets_olivegarden = df %>% filter(ifelse(grepl(x, Text),TRUE,FALSE)) %>% select(Text)\n",
    "nrow(tweets_olivegarden)\n",
    "tweets_olivegarden"
   ]
  },
  {
   "cell_type": "code",
   "execution_count": 114,
   "id": "e5a3ebbe",
   "metadata": {
    "slideshow": {
     "slide_type": "subslide"
    }
   },
   "outputs": [
    {
     "data": {
      "text/html": [
       "8"
      ],
      "text/latex": [
       "8"
      ],
      "text/markdown": [
       "8"
      ],
      "text/plain": [
       "[1] 8"
      ]
     },
     "metadata": {},
     "output_type": "display_data"
    },
    {
     "data": {
      "text/html": [
       "<table>\n",
       "<thead><tr><th scope=col>Text</th></tr></thead>\n",
       "<tbody>\n",
       "\t<tr><td>@girdley ~% is Chili’s propaganda\n",
       "\n",
       "so ~% is lies, exaggeration, BS                                      </td></tr>\n",
       "\t<tr><td>@girdley saw the same guy at Chili’s (@Cokedupoptions)                                                    </td></tr>\n",
       "\t<tr><td>@ERodz I've never had unlimited salad and breadsticks at Chilis...have you?\n",
       "\n",
       "No? That's what I thought. </td></tr>\n",
       "\t<tr><td>@Molson_Hart I haven't seen anything this polarizing since the @Chilis vs @olivegarden debate.            </td></tr>\n",
       "\t<tr><td>@girdley In my book,\n",
       "\n",
       "“He’s that @Chilis guy.”                                                          </td></tr>\n",
       "\t<tr><td><span style=white-space:pre-wrap>.@olivegarden&amp;gt;@Chilis&amp;gt;@DaveRamsey                                                                   </span></td></tr>\n",
       "\t<tr><td>Might have to go for some Olive Garden after this dub.\n",
       "\n",
       "(better than @Chilis)                           </td></tr>\n",
       "\t<tr><td><span style=white-space:pre-wrap>.@olivegarden &amp;gt; @Chilis \n",
       "\n",
       "All &lt;U+0001F4E0&gt; no &lt;U+0001F5A8&gt;.                                          </span></td></tr>\n",
       "</tbody>\n",
       "</table>\n"
      ],
      "text/latex": [
       "\\begin{tabular}{r|l}\n",
       " Text\\\\\n",
       "\\hline\n",
       "\t @girdley \\textasciitilde{}\\% is Chili’s propaganda\n",
       "\n",
       "so \\textasciitilde{}\\% is lies, exaggeration, BS                                      \\\\\n",
       "\t @girdley saw the same guy at Chili’s (@Cokedupoptions)                                                    \\\\\n",
       "\t @ERodz I've never had unlimited salad and breadsticks at Chilis...have you?\n",
       "\n",
       "No? That's what I thought. \\\\\n",
       "\t @Molson\\_Hart I haven't seen anything this polarizing since the @Chilis vs @olivegarden debate.            \\\\\n",
       "\t @girdley In my book,\n",
       "\n",
       "“He’s that @Chilis guy.”                                                          \\\\\n",
       "\t .@olivegarden\\&gt;@Chilis\\&gt;@DaveRamsey                                                                   \\\\\n",
       "\t Might have to go for some Olive Garden after this dub.\n",
       "\n",
       "(better than @Chilis)                           \\\\\n",
       "\t .@olivegarden \\&gt; @Chilis \n",
       "\n",
       "All <U+0001F4E0> no <U+0001F5A8>.                                          \\\\\n",
       "\\end{tabular}\n"
      ],
      "text/markdown": [
       "\n",
       "| Text |\n",
       "|---|\n",
       "| @girdley ~% is Chili’s propaganda\n",
       "\n",
       "so ~% is lies, exaggeration, BS                                       |\n",
       "| @girdley saw the same guy at Chili’s (@Cokedupoptions)                                                     |\n",
       "| @ERodz I've never had unlimited salad and breadsticks at Chilis...have you?\n",
       "\n",
       "No? That's what I thought.  |\n",
       "| @Molson_Hart I haven't seen anything this polarizing since the @Chilis vs @olivegarden debate.             |\n",
       "| @girdley In my book,\n",
       "\n",
       "“He’s that @Chilis guy.”                                                           |\n",
       "| .@olivegarden&gt;@Chilis&gt;@DaveRamsey                                                                    |\n",
       "| Might have to go for some Olive Garden after this dub.\n",
       "\n",
       "(better than @Chilis)                            |\n",
       "| .@olivegarden &gt; @Chilis \n",
       "\n",
       "All <U+0001F4E0> no <U+0001F5A8>.                                           |\n",
       "\n"
      ],
      "text/plain": [
       "  Text                                                                                                      \n",
       "1 @girdley ~% is Chili’s propaganda\\n\\nso ~% is lies, exaggeration, BS                                      \n",
       "2 @girdley saw the same guy at Chili’s (@Cokedupoptions)                                                    \n",
       "3 @ERodz I've never had unlimited salad and breadsticks at Chilis...have you?\\n\\nNo? That's what I thought. \n",
       "4 @Molson_Hart I haven't seen anything this polarizing since the @Chilis vs @olivegarden debate.            \n",
       "5 @girdley In my book,\\n\\n“He’s that @Chilis guy.”                                                          \n",
       "6 .@olivegarden&gt;@Chilis&gt;@DaveRamsey                                                                   \n",
       "7 Might have to go for some Olive Garden after this dub.\\n\\n(better than @Chilis)                           \n",
       "8 .@olivegarden &gt; @Chilis \\n\\nAll <U+0001F4E0> no <U+0001F5A8>.                                          "
      ]
     },
     "metadata": {},
     "output_type": "display_data"
    }
   ],
   "source": [
    "x = \"Chili\"\n",
    "tweets_chilis = df %>% filter(ifelse(grepl(x, Text),TRUE,FALSE)) %>% select(Text)\n",
    "nrow(tweets_chilis)\n",
    "tweets_chilis"
   ]
  },
  {
   "cell_type": "code",
   "execution_count": 113,
   "id": "d6e81e71",
   "metadata": {
    "slideshow": {
     "slide_type": "slide"
    }
   },
   "outputs": [
    {
     "name": "stderr",
     "output_type": "stream",
     "text": [
      "Joining, by = \"word\"\n",
      "Selecting by n\n"
     ]
    },
    {
     "data": {
      "image/png": "[encoded data removed]",
      "text/plain": [
       "plot without title"
      ]
     },
     "metadata": {},
     "output_type": "display_data"
    }
   ],
   "source": [
    "df = read.xlsx2(\"data/@sullybusiness_user_tweets.xlsx\",1,header=T)\n",
    "\n",
    "# Remove URL\n",
    "df$Text = gsub(\"http.*\",\"\", df$Text)\n",
    "\n",
    "# Remove numbers\n",
    "df$Text = gsub(\"[[:digit:]]\",\"\", df$Text)\n",
    "\n",
    "# Split into words\n",
    "clean_tweets = df %>% select(Tweet.Id,Text) %>% unnest_tokens(output=word,input=Text)\n",
    "\n",
    "# Remove stop words\n",
    "data(\"stop_words\")\n",
    "cleaned_tweet_words <- clean_tweets %>%\n",
    "  anti_join(stop_words)\n",
    "\n",
    "# Print to csv\n",
    "wordfreq = cleaned_tweet_words %>% count(word, sort=TRUE)\n",
    "write.csv(wordfreq,\"data/wordfreq.csv\", row.names = FALSE)\n",
    "\n",
    "# Graph top words\n",
    "cleaned_tweet_words %>%\n",
    "  count(word, sort = TRUE) %>%\n",
    "  top_n(25) %>%\n",
    "  mutate(word = reorder(word, n)) %>%\n",
    "  ggplot(aes(x = word, y = n)) +\n",
    "  geom_col() +\n",
    "  xlab(NULL) +\n",
    "  coord_flip() +\n",
    "      labs(x = \"Count\",\n",
    "      y = \"Unique words\",\n",
    "      title = \"Top 50 words found in @sullybusinesss tweets\")"
   ]
  },
  {
   "cell_type": "code",
   "execution_count": 100,
   "id": "1589f179",
   "metadata": {
    "scrolled": false,
    "slideshow": {
     "slide_type": "slide"
    }
   },
   "outputs": [
    {
     "data": {
      "image/png": "[encoded data removed]",
      "text/plain": [
       "plot without title"
      ]
     },
     "metadata": {},
     "output_type": "display_data"
    }
   ],
   "source": [
    "set.seed(333)\n",
    "wordcloud(words = wordfreq$word, freq = wordfreq$n, min.freq = 1,\n",
    "          max.words=100, random.order=FALSE, rot.per=0.35, \n",
    "          colors=brewer.pal(8, \"Spectral\"))"
   ]
  }
 ],
 "metadata": {
  "celltoolbar": "Slideshow",
  "kernelspec": {
   "display_name": "R",
   "language": "R",
   "name": "ir"
  },
  "language_info": {
   "codemirror_mode": "r",
   "file_extension": ".r",
   "mimetype": "text/x-r-source",
   "name": "R",
   "pygments_lexer": "r",
   "version": "3.6.1"
  }
 },
 "nbformat": 4,
 "nbformat_minor": 5
}
